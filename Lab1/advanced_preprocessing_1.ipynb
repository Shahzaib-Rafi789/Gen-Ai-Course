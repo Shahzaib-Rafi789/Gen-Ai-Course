{
 "cells": [
  {
   "cell_type": "markdown",
   "metadata": {},
   "source": [
    "# POS Tagging"
   ]
  },
  {
   "cell_type": "code",
   "execution_count": 1,
   "metadata": {},
   "outputs": [
    {
     "name": "stdout",
     "output_type": "stream",
     "text": [
      "The DET\n",
      "quick ADJ\n",
      "brown ADJ\n",
      "fox NOUN\n",
      "jumps VERB\n",
      "over ADP\n",
      "the DET\n",
      "lazy ADJ\n",
      "dog NOUN\n",
      ". PUNCT\n",
      "Verbs: ['jumps']\n"
     ]
    }
   ],
   "source": [
    "import spacy \n",
    "\n",
    "# Load English tokenizer, tagger, \n",
    "# parser, NER and word vectors \n",
    "nlp = spacy.load(\"en_core_web_sm\") \n",
    "\n",
    "# Process whole documents \n",
    "text = \"The quick brown fox jumps over the lazy dog.\"\n",
    "\n",
    "doc = nlp(text) \n",
    "\n",
    "# Token and Tag \n",
    "for token in doc: \n",
    "    print(token, token.pos_) \n",
    "\n",
    "# You want list of Verb tokens \n",
    "print(\"Verbs:\", [token.text for token in doc if token.pos_ == \"VERB\"]) \n"
   ]
  },
  {
   "cell_type": "code",
   "execution_count": 2,
   "metadata": {},
   "outputs": [
    {
     "name": "stdout",
     "output_type": "stream",
     "text": [
      "['The', 'quick', 'brown', 'fox', 'jumps', 'over', 'the', 'lazy', 'dog', '.']\n",
      "POS Tags:\n",
      "[('The', 'DT'), ('quick', 'JJ'), ('brown', 'NN'), ('fox', 'NN'), ('jumps', 'VBZ'), ('over', 'IN'), ('the', 'DT'), ('lazy', 'JJ'), ('dog', 'NN'), ('.', '.')]\n"
     ]
    },
    {
     "name": "stderr",
     "output_type": "stream",
     "text": [
      "[nltk_data] Downloading package averaged_perceptron_tagger to\n",
      "[nltk_data]     C:\\Users\\PMLS\\AppData\\Roaming\\nltk_data...\n",
      "[nltk_data]   Package averaged_perceptron_tagger is already up-to-\n",
      "[nltk_data]       date!\n"
     ]
    }
   ],
   "source": [
    "import nltk\n",
    "from nltk import word_tokenize, pos_tag\n",
    "from nltk.corpus import stopwords\n",
    "nltk.download('averaged_perceptron_tagger')\n",
    "\n",
    "stop_words = set(stopwords.words('english'))\n",
    "\n",
    "\n",
    "sentence = \"The quick brown fox jumps over the lazy dog.\"\n",
    "\n",
    "\n",
    "tokens = word_tokenize(sentence)\n",
    "\n",
    "print(tokens)\n",
    "pos_tags = pos_tag(tokens)\n",
    "\n",
    "\n",
    "print(\"POS Tags:\")\n",
    "print(pos_tags)"
   ]
  },
  {
   "cell_type": "markdown",
   "metadata": {},
   "source": [
    "# Coreference Resolution​"
   ]
  },
  {
   "cell_type": "code",
   "execution_count": 13,
   "metadata": {},
   "outputs": [
    {
     "name": "stdout",
     "output_type": "stream",
     "text": [
      "Collecting neuralcoref\n",
      "  Using cached neuralcoref-4.0.tar.gz (368 kB)\n",
      "  Preparing metadata (setup.py): started\n",
      "  Preparing metadata (setup.py): finished with status 'done'\n",
      "Requirement already satisfied: numpy>=1.15.0 in c:\\users\\pmls\\anaconda3\\lib\\site-packages (from neuralcoref) (1.24.3)\n",
      "Collecting boto3 (from neuralcoref)\n",
      "  Obtaining dependency information for boto3 from https://files.pythonhosted.org/packages/cf/39/9244e5e3c7f980ac2136e66fdbe4d5c1e60cf0b98f8f965dc69832f11eb9/boto3-1.34.114-py3-none-any.whl.metadata\n",
      "  Downloading boto3-1.34.114-py3-none-any.whl.metadata (6.6 kB)\n",
      "Requirement already satisfied: requests<3.0.0,>=2.13.0 in c:\\users\\pmls\\anaconda3\\lib\\site-packages (from neuralcoref) (2.31.0)\n",
      "Requirement already satisfied: spacy>=2.1.0 in c:\\users\\pmls\\anaconda3\\lib\\site-packages (from neuralcoref) (3.7.4)\n",
      "Requirement already satisfied: charset-normalizer<4,>=2 in c:\\users\\pmls\\anaconda3\\lib\\site-packages (from requests<3.0.0,>=2.13.0->neuralcoref) (2.0.4)\n",
      "Requirement already satisfied: idna<4,>=2.5 in c:\\users\\pmls\\anaconda3\\lib\\site-packages (from requests<3.0.0,>=2.13.0->neuralcoref) (3.4)\n",
      "Requirement already satisfied: urllib3<3,>=1.21.1 in c:\\users\\pmls\\anaconda3\\lib\\site-packages (from requests<3.0.0,>=2.13.0->neuralcoref) (1.26.16)\n",
      "Requirement already satisfied: certifi>=2017.4.17 in c:\\users\\pmls\\anaconda3\\lib\\site-packages (from requests<3.0.0,>=2.13.0->neuralcoref) (2024.2.2)\n",
      "Requirement already satisfied: spacy-legacy<3.1.0,>=3.0.11 in c:\\users\\pmls\\anaconda3\\lib\\site-packages (from spacy>=2.1.0->neuralcoref) (3.0.12)\n",
      "Requirement already satisfied: spacy-loggers<2.0.0,>=1.0.0 in c:\\users\\pmls\\anaconda3\\lib\\site-packages (from spacy>=2.1.0->neuralcoref) (1.0.5)\n",
      "Requirement already satisfied: murmurhash<1.1.0,>=0.28.0 in c:\\users\\pmls\\anaconda3\\lib\\site-packages (from spacy>=2.1.0->neuralcoref) (1.0.10)\n",
      "Requirement already satisfied: cymem<2.1.0,>=2.0.2 in c:\\users\\pmls\\anaconda3\\lib\\site-packages (from spacy>=2.1.0->neuralcoref) (2.0.8)\n",
      "Requirement already satisfied: preshed<3.1.0,>=3.0.2 in c:\\users\\pmls\\anaconda3\\lib\\site-packages (from spacy>=2.1.0->neuralcoref) (3.0.9)\n",
      "Requirement already satisfied: thinc<8.3.0,>=8.2.2 in c:\\users\\pmls\\anaconda3\\lib\\site-packages (from spacy>=2.1.0->neuralcoref) (8.2.3)\n",
      "Requirement already satisfied: wasabi<1.2.0,>=0.9.1 in c:\\users\\pmls\\anaconda3\\lib\\site-packages (from spacy>=2.1.0->neuralcoref) (1.1.2)\n",
      "Requirement already satisfied: srsly<3.0.0,>=2.4.3 in c:\\users\\pmls\\anaconda3\\lib\\site-packages (from spacy>=2.1.0->neuralcoref) (2.4.8)\n",
      "Requirement already satisfied: catalogue<2.1.0,>=2.0.6 in c:\\users\\pmls\\anaconda3\\lib\\site-packages (from spacy>=2.1.0->neuralcoref) (2.0.10)\n",
      "Requirement already satisfied: weasel<0.4.0,>=0.1.0 in c:\\users\\pmls\\anaconda3\\lib\\site-packages (from spacy>=2.1.0->neuralcoref) (0.3.4)\n",
      "Requirement already satisfied: typer<0.10.0,>=0.3.0 in c:\\users\\pmls\\anaconda3\\lib\\site-packages (from spacy>=2.1.0->neuralcoref) (0.9.4)\n",
      "Requirement already satisfied: smart-open<7.0.0,>=5.2.1 in c:\\users\\pmls\\anaconda3\\lib\\site-packages (from spacy>=2.1.0->neuralcoref) (5.2.1)\n",
      "Requirement already satisfied: tqdm<5.0.0,>=4.38.0 in c:\\users\\pmls\\anaconda3\\lib\\site-packages (from spacy>=2.1.0->neuralcoref) (4.65.0)\n",
      "Requirement already satisfied: pydantic!=1.8,!=1.8.1,<3.0.0,>=1.7.4 in c:\\users\\pmls\\anaconda3\\lib\\site-packages (from spacy>=2.1.0->neuralcoref) (1.10.8)\n",
      "Requirement already satisfied: jinja2 in c:\\users\\pmls\\anaconda3\\lib\\site-packages (from spacy>=2.1.0->neuralcoref) (3.1.2)\n",
      "Requirement already satisfied: setuptools in c:\\users\\pmls\\anaconda3\\lib\\site-packages (from spacy>=2.1.0->neuralcoref) (68.0.0)\n",
      "Requirement already satisfied: packaging>=20.0 in c:\\users\\pmls\\anaconda3\\lib\\site-packages (from spacy>=2.1.0->neuralcoref) (23.1)\n",
      "Requirement already satisfied: langcodes<4.0.0,>=3.2.0 in c:\\users\\pmls\\anaconda3\\lib\\site-packages (from spacy>=2.1.0->neuralcoref) (3.4.0)\n",
      "Collecting botocore<1.35.0,>=1.34.114 (from boto3->neuralcoref)\n",
      "  Obtaining dependency information for botocore<1.35.0,>=1.34.114 from https://files.pythonhosted.org/packages/49/20/61533c2b8044441d1d42011b5d9c418b97d96c626cf71497b6769c09e035/botocore-1.34.114-py3-none-any.whl.metadata\n",
      "  Downloading botocore-1.34.114-py3-none-any.whl.metadata (5.7 kB)\n",
      "Requirement already satisfied: jmespath<2.0.0,>=0.7.1 in c:\\users\\pmls\\anaconda3\\lib\\site-packages (from boto3->neuralcoref) (0.10.0)\n",
      "Collecting s3transfer<0.11.0,>=0.10.0 (from boto3->neuralcoref)\n",
      "  Obtaining dependency information for s3transfer<0.11.0,>=0.10.0 from https://files.pythonhosted.org/packages/83/37/395cdb6ee92925fa211e55d8f07b9f93cf93f60d7d4ce5e66fd73f1ea986/s3transfer-0.10.1-py3-none-any.whl.metadata\n",
      "  Downloading s3transfer-0.10.1-py3-none-any.whl.metadata (1.7 kB)\n",
      "Requirement already satisfied: python-dateutil<3.0.0,>=2.1 in c:\\users\\pmls\\anaconda3\\lib\\site-packages (from botocore<1.35.0,>=1.34.114->boto3->neuralcoref) (2.8.2)\n",
      "Requirement already satisfied: language-data>=1.2 in c:\\users\\pmls\\anaconda3\\lib\\site-packages (from langcodes<4.0.0,>=3.2.0->spacy>=2.1.0->neuralcoref) (1.2.0)\n",
      "Requirement already satisfied: typing-extensions>=4.2.0 in c:\\users\\pmls\\anaconda3\\lib\\site-packages (from pydantic!=1.8,!=1.8.1,<3.0.0,>=1.7.4->spacy>=2.1.0->neuralcoref) (4.7.1)\n",
      "Requirement already satisfied: blis<0.8.0,>=0.7.8 in c:\\users\\pmls\\anaconda3\\lib\\site-packages (from thinc<8.3.0,>=8.2.2->spacy>=2.1.0->neuralcoref) (0.7.11)\n",
      "Requirement already satisfied: confection<1.0.0,>=0.0.1 in c:\\users\\pmls\\anaconda3\\lib\\site-packages (from thinc<8.3.0,>=8.2.2->spacy>=2.1.0->neuralcoref) (0.1.4)\n",
      "Requirement already satisfied: colorama in c:\\users\\pmls\\anaconda3\\lib\\site-packages (from tqdm<5.0.0,>=4.38.0->spacy>=2.1.0->neuralcoref) (0.4.6)\n",
      "Requirement already satisfied: click<9.0.0,>=7.1.1 in c:\\users\\pmls\\anaconda3\\lib\\site-packages (from typer<0.10.0,>=0.3.0->spacy>=2.1.0->neuralcoref) (8.0.4)\n",
      "Requirement already satisfied: cloudpathlib<0.17.0,>=0.7.0 in c:\\users\\pmls\\anaconda3\\lib\\site-packages (from weasel<0.4.0,>=0.1.0->spacy>=2.1.0->neuralcoref) (0.16.0)\n",
      "Requirement already satisfied: MarkupSafe>=2.0 in c:\\users\\pmls\\anaconda3\\lib\\site-packages (from jinja2->spacy>=2.1.0->neuralcoref) (2.1.1)\n",
      "Requirement already satisfied: marisa-trie>=0.7.7 in c:\\users\\pmls\\anaconda3\\lib\\site-packages (from language-data>=1.2->langcodes<4.0.0,>=3.2.0->spacy>=2.1.0->neuralcoref) (1.1.1)\n",
      "Requirement already satisfied: six>=1.5 in c:\\users\\pmls\\anaconda3\\lib\\site-packages (from python-dateutil<3.0.0,>=2.1->botocore<1.35.0,>=1.34.114->boto3->neuralcoref) (1.16.0)\n",
      "Downloading boto3-1.34.114-py3-none-any.whl (139 kB)\n",
      "   ---------------------------------------- 0.0/139.3 kB ? eta -:--:--\n",
      "   -------- ------------------------------ 30.7/139.3 kB 660.6 kB/s eta 0:00:01\n",
      "   -------- ------------------------------ 30.7/139.3 kB 660.6 kB/s eta 0:00:01\n",
      "   -------------------- ------------------ 71.7/139.3 kB 435.7 kB/s eta 0:00:01\n",
      "   --------------------------- ---------- 102.4/139.3 kB 535.8 kB/s eta 0:00:01\n",
      "   ------------------------------------ - 133.1/139.3 kB 561.1 kB/s eta 0:00:01\n",
      "   -------------------------------------- 139.3/139.3 kB 485.3 kB/s eta 0:00:00\n",
      "Downloading botocore-1.34.114-py3-none-any.whl (12.3 MB)\n",
      "   ---------------------------------------- 0.0/12.3 MB ? eta -:--:--\n",
      "    --------------------------------------- 0.2/12.3 MB ? eta -:--:--\n",
      "    --------------------------------------- 0.2/12.3 MB ? eta -:--:--\n",
      "    --------------------------------------- 0.2/12.3 MB ? eta -:--:--\n",
      "    --------------------------------------- 0.2/12.3 MB ? eta -:--:--\n",
      "   - -------------------------------------- 0.4/12.3 MB 1.9 MB/s eta 0:00:07\n",
      "   - -------------------------------------- 0.4/12.3 MB 1.9 MB/s eta 0:00:07\n",
      "   - -------------------------------------- 0.4/12.3 MB 1.9 MB/s eta 0:00:07\n",
      "   - -------------------------------------- 0.4/12.3 MB 1.9 MB/s eta 0:00:07\n",
      "   - -------------------------------------- 0.5/12.3 MB 1.3 MB/s eta 0:00:10\n",
      "   -- ------------------------------------- 0.7/12.3 MB 1.6 MB/s eta 0:00:08\n",
      "   -- ------------------------------------- 0.7/12.3 MB 1.6 MB/s eta 0:00:08\n",
      "   -- ------------------------------------- 0.7/12.3 MB 1.6 MB/s eta 0:00:08\n",
      "   -- ------------------------------------- 0.7/12.3 MB 1.6 MB/s eta 0:00:08\n",
      "   --- ------------------------------------ 1.1/12.3 MB 1.7 MB/s eta 0:00:07\n",
      "   ---- ----------------------------------- 1.2/12.3 MB 1.9 MB/s eta 0:00:06\n",
      "   ---- ----------------------------------- 1.2/12.3 MB 1.9 MB/s eta 0:00:06\n",
      "   ---- ----------------------------------- 1.4/12.3 MB 1.7 MB/s eta 0:00:07\n",
      "   ----- ---------------------------------- 1.7/12.3 MB 2.1 MB/s eta 0:00:06\n",
      "   ----- ---------------------------------- 1.7/12.3 MB 2.1 MB/s eta 0:00:06\n",
      "   ----- ---------------------------------- 1.7/12.3 MB 2.1 MB/s eta 0:00:06\n",
      "   ----- ---------------------------------- 1.8/12.3 MB 1.9 MB/s eta 0:00:06\n",
      "   ------- -------------------------------- 2.3/12.3 MB 2.2 MB/s eta 0:00:05\n",
      "   -------- ------------------------------- 2.7/12.3 MB 2.5 MB/s eta 0:00:04\n",
      "   --------- ------------------------------ 2.8/12.3 MB 2.5 MB/s eta 0:00:04\n",
      "   --------- ------------------------------ 3.0/12.3 MB 2.6 MB/s eta 0:00:04\n",
      "   ---------- ----------------------------- 3.3/12.3 MB 2.8 MB/s eta 0:00:04\n",
      "   ------------ --------------------------- 3.8/12.3 MB 3.0 MB/s eta 0:00:03\n",
      "   ------------- -------------------------- 4.1/12.3 MB 3.2 MB/s eta 0:00:03\n",
      "   ------------- -------------------------- 4.3/12.3 MB 3.2 MB/s eta 0:00:03\n",
      "   --------------- ------------------------ 4.8/12.3 MB 3.5 MB/s eta 0:00:03\n",
      "   ---------------- ----------------------- 5.1/12.3 MB 3.6 MB/s eta 0:00:02\n",
      "   ------------------ --------------------- 5.6/12.3 MB 3.7 MB/s eta 0:00:02\n",
      "   ------------------- -------------------- 5.8/12.3 MB 3.9 MB/s eta 0:00:02\n",
      "   ------------------- -------------------- 5.8/12.3 MB 3.9 MB/s eta 0:00:02\n",
      "   ------------------- -------------------- 5.8/12.3 MB 3.9 MB/s eta 0:00:02\n",
      "   ------------------- -------------------- 5.8/12.3 MB 3.9 MB/s eta 0:00:02\n",
      "   ------------------- -------------------- 5.9/12.3 MB 3.5 MB/s eta 0:00:02\n",
      "   ----------------------- ---------------- 7.2/12.3 MB 4.1 MB/s eta 0:00:02\n",
      "   ------------------------ --------------- 7.4/12.3 MB 4.1 MB/s eta 0:00:02\n",
      "   ------------------------- -------------- 7.8/12.3 MB 4.2 MB/s eta 0:00:02\n",
      "   -------------------------- ------------- 8.1/12.3 MB 4.3 MB/s eta 0:00:01\n",
      "   -------------------------- ------------- 8.3/12.3 MB 4.3 MB/s eta 0:00:01\n",
      "   ---------------------------- ----------- 8.6/12.3 MB 4.3 MB/s eta 0:00:01\n",
      "   ----------------------------- ---------- 8.9/12.3 MB 4.4 MB/s eta 0:00:01\n",
      "   ----------------------------- ---------- 9.2/12.3 MB 4.4 MB/s eta 0:00:01\n",
      "   ----------------------------- ---------- 9.2/12.3 MB 4.4 MB/s eta 0:00:01\n",
      "   -------------------------------- ------- 9.9/12.3 MB 4.5 MB/s eta 0:00:01\n",
      "   --------------------------------- ------ 10.1/12.3 MB 4.6 MB/s eta 0:00:01\n",
      "   --------------------------------- ------ 10.2/12.3 MB 4.5 MB/s eta 0:00:01\n",
      "   ---------------------------------- ----- 10.6/12.3 MB 4.9 MB/s eta 0:00:01\n",
      "   ----------------------------------- ---- 11.0/12.3 MB 5.8 MB/s eta 0:00:01\n",
      "   ------------------------------------ --- 11.2/12.3 MB 5.8 MB/s eta 0:00:01\n",
      "   ------------------------------------- -- 11.5/12.3 MB 6.1 MB/s eta 0:00:01\n",
      "   -------------------------------------- - 11.8/12.3 MB 6.1 MB/s eta 0:00:01\n",
      "   ---------------------------------------  12.1/12.3 MB 6.5 MB/s eta 0:00:01\n",
      "   ---------------------------------------  12.3/12.3 MB 6.5 MB/s eta 0:00:01\n",
      "   ---------------------------------------- 12.3/12.3 MB 6.3 MB/s eta 0:00:00\n",
      "Downloading s3transfer-0.10.1-py3-none-any.whl (82 kB)\n",
      "   ---------------------------------------- 0.0/82.2 kB ? eta -:--:--\n",
      "   ---------------------------------------- 82.2/82.2 kB ? eta 0:00:00\n",
      "Building wheels for collected packages: neuralcoref\n",
      "  Building wheel for neuralcoref (setup.py): started\n",
      "  Building wheel for neuralcoref (setup.py): finished with status 'error'\n",
      "  Running setup.py clean for neuralcoref\n",
      "Failed to build neuralcoref\n"
     ]
    },
    {
     "name": "stderr",
     "output_type": "stream",
     "text": [
      "  error: subprocess-exited-with-error\n",
      "  \n",
      "  × python setup.py bdist_wheel did not run successfully.\n",
      "  │ exit code: 1\n",
      "  ╰─> [35 lines of output]\n",
      "      C:\\Users\\PMLS\\anaconda3\\Lib\\site-packages\\setuptools\\__init__.py:84: _DeprecatedInstaller: setuptools.installer and fetch_build_eggs are deprecated.\n",
      "      !!\n",
      "      \n",
      "              ********************************************************************************\n",
      "              Requirements should be satisfied by a PEP 517 installer.\n",
      "              If you are using pip, you can try `pip install --use-pep517`.\n",
      "              ********************************************************************************\n",
      "      \n",
      "      !!\n",
      "        dist.fetch_build_eggs(dist.setup_requires)\n",
      "      running bdist_wheel\n",
      "      running build\n",
      "      running build_py\n",
      "      creating build\n",
      "      creating build\\lib.win-amd64-cpython-311\n",
      "      creating build\\lib.win-amd64-cpython-311\\neuralcoref\n",
      "      copying neuralcoref\\file_utils.py -> build\\lib.win-amd64-cpython-311\\neuralcoref\n",
      "      copying neuralcoref\\__init__.py -> build\\lib.win-amd64-cpython-311\\neuralcoref\n",
      "      creating build\\lib.win-amd64-cpython-311\\neuralcoref\\tests\n",
      "      copying neuralcoref\\tests\\test_neuralcoref.py -> build\\lib.win-amd64-cpython-311\\neuralcoref\\tests\n",
      "      copying neuralcoref\\tests\\__init__.py -> build\\lib.win-amd64-cpython-311\\neuralcoref\\tests\n",
      "      creating build\\lib.win-amd64-cpython-311\\neuralcoref\\train\n",
      "      copying neuralcoref\\train\\algorithm.py -> build\\lib.win-amd64-cpython-311\\neuralcoref\\train\n",
      "      copying neuralcoref\\train\\compat.py -> build\\lib.win-amd64-cpython-311\\neuralcoref\\train\n",
      "      copying neuralcoref\\train\\conllparser.py -> build\\lib.win-amd64-cpython-311\\neuralcoref\\train\n",
      "      copying neuralcoref\\train\\dataset.py -> build\\lib.win-amd64-cpython-311\\neuralcoref\\train\n",
      "      copying neuralcoref\\train\\document.py -> build\\lib.win-amd64-cpython-311\\neuralcoref\\train\n",
      "      copying neuralcoref\\train\\evaluator.py -> build\\lib.win-amd64-cpython-311\\neuralcoref\\train\n",
      "      copying neuralcoref\\train\\learn.py -> build\\lib.win-amd64-cpython-311\\neuralcoref\\train\n",
      "      copying neuralcoref\\train\\model.py -> build\\lib.win-amd64-cpython-311\\neuralcoref\\train\n",
      "      copying neuralcoref\\train\\utils.py -> build\\lib.win-amd64-cpython-311\\neuralcoref\\train\n",
      "      copying neuralcoref\\train\\__init__.py -> build\\lib.win-amd64-cpython-311\\neuralcoref\\train\n",
      "      running build_ext\n",
      "      building 'neuralcoref.neuralcoref' extension\n",
      "      error: Microsoft Visual C++ 14.0 or greater is required. Get it with \"Microsoft C++ Build Tools\": https://visualstudio.microsoft.com/visual-cpp-build-tools/\n",
      "      [end of output]\n",
      "  \n",
      "  note: This error originates from a subprocess, and is likely not a problem with pip.\n",
      "  ERROR: Failed building wheel for neuralcoref\n",
      "ERROR: Could not build wheels for neuralcoref, which is required to install pyproject.toml-based projects\n"
     ]
    },
    {
     "ename": "ModuleNotFoundError",
     "evalue": "No module named 'neuralcoref'",
     "output_type": "error",
     "traceback": [
      "\u001b[1;31m---------------------------------------------------------------------------\u001b[0m",
      "\u001b[1;31mModuleNotFoundError\u001b[0m                       Traceback (most recent call last)",
      "Cell \u001b[1;32mIn[13], line 3\u001b[0m\n\u001b[0;32m      1\u001b[0m get_ipython()\u001b[38;5;241m.\u001b[39msystem(\u001b[38;5;124m'\u001b[39m\u001b[38;5;124mpip install neuralcoref\u001b[39m\u001b[38;5;124m'\u001b[39m)\n\u001b[0;32m      2\u001b[0m \u001b[38;5;28;01mimport\u001b[39;00m \u001b[38;5;21;01mspacy\u001b[39;00m\n\u001b[1;32m----> 3\u001b[0m \u001b[38;5;28;01mimport\u001b[39;00m \u001b[38;5;21;01mneuralcoref\u001b[39;00m\n\u001b[0;32m      5\u001b[0m \u001b[38;5;66;03m# Load spaCy model\u001b[39;00m\n\u001b[0;32m      6\u001b[0m nlp \u001b[38;5;241m=\u001b[39m spacy\u001b[38;5;241m.\u001b[39mload(\u001b[38;5;124m'\u001b[39m\u001b[38;5;124men_core_web_sm\u001b[39m\u001b[38;5;124m'\u001b[39m)\n",
      "\u001b[1;31mModuleNotFoundError\u001b[0m: No module named 'neuralcoref'"
     ]
    }
   ],
   "source": [
    "!pip install neuralcoref\n",
    "import spacy\n",
    "import neuralcoref\n",
    "\n",
    "# Load spaCy model\n",
    "nlp = spacy.load('en_core_web_sm')\n",
    "\n",
    "# Add neuralcoref to the pipeline\n",
    "neuralcoref.add_to_pipe(nlp)\n",
    "\n",
    "# Example text\n",
    "text = \"John said he would come. He didn't.\"\n",
    "\n",
    "# Process the text\n",
    "doc = nlp(text)\n",
    "\n",
    "# Print coreferences\n",
    "if doc._.has_coref:\n",
    "    for cluster in doc._.coref_clusters:\n",
    "        print(cluster)\n"
   ]
  },
  {
   "cell_type": "markdown",
   "metadata": {},
   "source": [
    "# Data Augmentation"
   ]
  },
  {
   "cell_type": "code",
   "execution_count": 14,
   "metadata": {},
   "outputs": [
    {
     "ename": "",
     "evalue": "",
     "output_type": "error",
     "traceback": [
      "\u001b[1;31mThe Kernel crashed while executing code in the current cell or a previous cell. \n",
      "\u001b[1;31mPlease review the code in the cell(s) to identify a possible cause of the failure. \n",
      "\u001b[1;31mClick <a href='https://aka.ms/vscodeJupyterKernelCrash'>here</a> for more info. \n",
      "\u001b[1;31mView Jupyter <a href='command:jupyter.viewOutput'>log</a> for further details."
     ]
    }
   ],
   "source": [
    "!pip install textattack\n",
    "import textattack\n",
    "from textattack.augmentation import WordNetAugmenter, EmbeddingAugmenter, EasyDataAugmenter, CharSwapAugmenter\n",
    "\n",
    "# Example text\n",
    "text = \"Text augmentation is essential for improving model performance.\"\n",
    "\n",
    "# Using WordNet augmenter (synonym replacement)\n",
    "augmenter = WordNetAugmenter()\n",
    "augmented_texts = augmenter.augment(text)\n",
    "print(\"WordNet Augmentation:\")\n",
    "for augmented_text in augmented_texts:\n",
    "    print(augmented_text)\n",
    "\n",
    "# Using Embedding augmenter (replaces words with their embeddings)\n",
    "augmenter = EmbeddingAugmenter()\n",
    "augmented_texts = augmenter.augment(text)\n",
    "print(\"\\nEmbedding Augmentation:\")\n",
    "for augmented_text in augmented_texts:\n",
    "    print(augmented_text)\n",
    "\n",
    "# Using Easy Data Augmentation (includes synonym replacement, insertion, deletion)\n",
    "augmenter = EasyDataAugmenter()\n",
    "augmented_texts = augmenter.augment(text)\n",
    "print(\"\\nEasy Data Augmentation:\")\n",
    "for augmented_text in augmented_texts:\n",
    "    print(augmented_text)\n",
    "\n",
    "# Using Character Swap Augmenter (introduces character-level noise)\n",
    "augmenter = CharSwapAugmenter()\n",
    "augmented_texts = augmenter.augment(text)\n",
    "print(\"\\nCharacter Swap Augmentation:\")\n",
    "for augmented_text in augmented_texts:\n",
    "    print(augmented_text)\n"
   ]
  },
  {
   "cell_type": "markdown",
   "metadata": {},
   "source": [
    "# NER"
   ]
  },
  {
   "cell_type": "code",
   "execution_count": null,
   "metadata": {},
   "outputs": [
    {
     "name": "stdout",
     "output_type": "stream",
     "text": [
      "Entities detected in the text:\n",
      "Apple - ORG\n",
      "U.K. - GPE\n",
      "$1 billion - MONEY\n",
      "Jeff Bezos - PERSON\n",
      "Amazon - ORG\n"
     ]
    }
   ],
   "source": [
    "import spacy\n",
    "\n",
    "# Load the pre-trained spaCy model\n",
    "nlp = spacy.load(\"en_core_web_sm\")\n",
    "\n",
    "# Example text\n",
    "text = \"Apple is looking at buying U.K. startup for $1 billion. Jeff Bezos founded Amazon.\"\n",
    "\n",
    "# Process the text with spaCy\n",
    "doc = nlp(text)\n",
    "\n",
    "# Print detected entities\n",
    "print(\"Entities detected in the text:\")\n",
    "for ent in doc.ents:\n",
    "    print(f\"{ent.text} - {ent.label_}\")"
   ]
  }
 ],
 "metadata": {
  "kernelspec": {
   "display_name": "base",
   "language": "python",
   "name": "python3"
  },
  "language_info": {
   "codemirror_mode": {
    "name": "ipython",
    "version": 3
   },
   "file_extension": ".py",
   "mimetype": "text/x-python",
   "name": "python",
   "nbconvert_exporter": "python",
   "pygments_lexer": "ipython3",
   "version": "3.11.5"
  }
 },
 "nbformat": 4,
 "nbformat_minor": 2
}
